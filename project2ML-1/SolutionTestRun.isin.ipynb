{
 "cells": [
  {
   "cell_type": "code",
   "execution_count": 19,
   "metadata": {},
   "outputs": [],
   "source": [
    "import os\n",
    "import re\n",
    "import nltk\n",
    "import numpy as np\n",
    "import pandas as pd\n",
    "import matplotlib.pyplot as plt\n",
    "from sklearn.metrics import confusion_matrix\n",
    "from sklearn.naive_bayes import GaussianNB\n",
    "from sklearn import metrics\n",
    "from sklearn import tree\n",
    "from sklearn.model_selection import train_test_split, ShuffleSplit, KFold, cross_val_score\n",
    "from sklearn.feature_extraction.text import CountVectorizer\n",
    "col_Names =[\"userID\", \"gender\", \"age\", \"occupation\", \"starSign\", \"date\", \"text\"]\n",
    "\n"
   ]
  },
  {
   "cell_type": "code",
   "execution_count": 20,
   "metadata": {},
   "outputs": [
    {
     "name": "stdout",
     "output_type": "stream",
     "text": [
      "read train_raw.csv succesfully\n",
      "read test_raw.csv succesfully\n"
     ]
    }
   ],
   "source": [
    "df_train = pd.read_csv('train_raw.csv', names=col_Names)\n",
    "print(\"read train_raw.csv succesfully\")\n",
    "df_test = pd.read_csv('test_raw.csv',names=col_Names)\n",
    "print(\"read test_raw.csv succesfully\")"
   ]
  },
  {
   "cell_type": "code",
   "execution_count": 21,
   "metadata": {},
   "outputs": [],
   "source": [
    "#remove empty space and start spaces from training model\n",
    "indices_to_remove=[]\n",
    "index=0\n",
    "for row in df_train.itertuples():\n",
    "    text = str(row.text.strip())\n",
    "    df_train.at[row[0],'text']=text\n",
    "    if len(text)==0:\n",
    "        indices_to_remove.append(index)\n",
    "    index+=1\n",
    "df_train=df_train.drop(df_train.index[indices_to_remove])\n",
    "df_train=df_train.reset_index()"
   ]
  },
  {
   "cell_type": "code",
   "execution_count": 22,
   "metadata": {},
   "outputs": [],
   "source": [
    "#groups by the same user ID instance for testing and training and concatenate the string of text of same ids.\n",
    "df_train = (df_train.groupby(['userID','age'])['text'].apply(' '.join).reset_index())\n",
    "df_test = (df_test.groupby(['userID','age'])['text'].apply(' '.join).reset_index())"
   ]
  },
  {
   "cell_type": "code",
   "execution_count": 23,
   "metadata": {},
   "outputs": [],
   "source": [
    "#it converts class of ranges to predict to unique number\n",
    "df_train.loc[df_train.age.isin([14,15,16]),'age'] = 1\n",
    "df_train.loc[df_train.age.isin([24,25,26]),'age'] = 2\n",
    "df_train.loc[df_train.age.isin([34,35,36]),'age'] = 3\n",
    "df_train.loc[df_train.age.isin([44,45,46]),'age'] = 4\n"
   ]
  },
  {
   "cell_type": "code",
   "execution_count": 24,
   "metadata": {},
   "outputs": [],
   "source": [
    "#sets the multinomial naive baeyes with count vectoriser and tfidf matrics\n",
    "from sklearn.pipeline import Pipeline\n",
    "from sklearn.naive_bayes import MultinomialNB\n",
    "y=df_train['age']\n",
    "text_clf = Pipeline([('vect', CountVectorizer()), ('tfidf', TfidfTransformer()),('clf', MultinomialNB(alpha=0.000001)),])\n",
    "text_clf = text_clf.fit(df_train['text'], y)\n",
    "predicted = text_clf.predict(df_test['text'])"
   ]
  },
  {
   "cell_type": "code",
   "execution_count": 25,
   "metadata": {},
   "outputs": [
    {
     "name": "stdout",
     "output_type": "stream",
     "text": [
      "read dev_raw.csv succesfully\n"
     ]
    }
   ],
   "source": [
    "#this is for reference without removal or joing of texts.\n",
    "df_test_check = pd.read_csv('test_raw.csv',names=col_Names)\n",
    "print(\"read dev_raw.csv succesfully\")\n",
    "df_test_check.loc[df_test_check.age.isin([14,15,16]),'age'] = 1\n",
    "df_test_check.loc[df_test_check.age.isin([24,25,26]),'age'] = 2\n",
    "df_test_check.loc[df_test_check.age.isin([34,35,36]),'age'] = 3\n",
    "df_test_check.loc[df_test_check.age.isin([44,45,46]),'age'] = 4"
   ]
  },
  {
   "cell_type": "code",
   "execution_count": 26,
   "metadata": {},
   "outputs": [],
   "source": [
    "#creates the dictionary of each unique user age predicted.\n",
    "userID_list=list(df_test['userID'])\n",
    "from collections import defaultdict\n",
    "dict_predict=defaultdict(int)\n",
    "for i in range(0,len(predicted)):\n",
    "    dict_predict[userID_list[i]]=predicted[i]\n",
    "\n"
   ]
  },
  {
   "cell_type": "code",
   "execution_count": 27,
   "metadata": {},
   "outputs": [],
   "source": [
    "#helps to create the list of all users age predicted with userIDs with same number of times as orignal.\n",
    "new_pred_nb=[]\n",
    "for i in range(0,len(df_test_check)):  \n",
    "    if dict_predict[df_test_check.loc[i]['userID']] ==1:\n",
    "        new_pred_nb.append((df_test_check.loc[i]['userID'],\"14-16\"))\n",
    "    if dict_predict[df_test_check.loc[i]['userID']] ==2:\n",
    "        new_pred_nb.append((df_test_check.loc[i]['userID'],\"24-26\"))\n",
    "    if dict_predict[df_test_check.loc[i]['userID']]==3:\n",
    "        new_pred_nb.append((df_test_check.loc[i]['userID'],\"34-36\"))\n",
    "    if dict_predict[df_test_check.loc[i]['userID']] ==4:\n",
    "        new_pred_nb.append((df_test_check.loc[i]['userID'],\"44-46\"))"
   ]
  },
  {
   "cell_type": "code",
   "execution_count": 28,
   "metadata": {},
   "outputs": [],
   "source": [
    "from collections import defaultdict"
   ]
  },
  {
   "cell_type": "code",
   "execution_count": 29,
   "metadata": {},
   "outputs": [],
   "source": [
    "from sklearn.linear_model import LogisticRegression\n",
    "from sklearn.metrics import classification_report\n",
    "from sklearn.pipeline import Pipeline\n",
    "C=[13]\n",
    "\n",
    "for i in C:\n",
    "    y=df_train['age']\n",
    "    text_clf_lg = Pipeline([('vect', CountVectorizer()), ('tfidf', TfidfTransformer()),\n",
    "                                  ('clf-svm',LogisticRegression(C=i)),])\n",
    "\n",
    "    _ = text_clf_lg.fit(df_train['text'], y)\n",
    "    predicted_lg = text_clf_lg.predict(df_test['text'])\n",
    "    userID_list=list(df_test['userID'])\n",
    "    dict_predict=defaultdict(int)\n",
    "    for i in range(0,len(df_test['userID'])):\n",
    "        dict_predict[userID_list[i]]=predicted_lg[i]   \n",
    "new_pred_lg=[]\n",
    "for i in range(0,len(df_test_check)):\n",
    "    if dict_predict[df_test_check.loc[i]['userID']] ==1:\n",
    "        new_pred_lg.append((df_test_check.loc[i]['userID'],\"14-16\"))\n",
    "    if dict_predict[df_test_check.loc[i]['userID']] ==2:\n",
    "        new_pred_lg.append((df_test_check.loc[i]['userID'],\"24-26\"))\n",
    "    if dict_predict[df_test_check.loc[i]['userID']]==3:\n",
    "        new_pred_lg.append((df_test_check.loc[i]['userID'],\"34-36\"))\n",
    "    if dict_predict[df_test_check.loc[i]['userID']] ==4:\n",
    "        new_pred_lg.append((df_test_check.loc[i]['userID'],\"44-46\"))    "
   ]
  },
  {
   "cell_type": "code",
   "execution_count": 30,
   "metadata": {},
   "outputs": [],
   "source": [
    "from sklearn.linear_model import SGDClassifier\n",
    "text_clf_svm = Pipeline([('vect', CountVectorizer()), ('tfidf', TfidfTransformer()),\n",
    "                         ('clf-svm', SGDClassifier(loss='hinge', penalty='l2',\n",
    "                      alpha=1e-4, max_iter=5, random_state=42)),])\n",
    "_ = text_clf_svm.fit(df_train['text'], y)\n",
    "predicted_svm = text_clf_svm.predict(df_test['text'])\n"
   ]
  },
  {
   "cell_type": "code",
   "execution_count": 31,
   "metadata": {},
   "outputs": [],
   "source": [
    "userID_list=list(df_test['userID'])\n",
    "    \n",
    "\n",
    "dict_predict=defaultdict(int)\n",
    "for i in range(0,len(predicted)):\n",
    "    dict_predict[userID_list[i]]=predicted_svm[i]\n",
    "\n",
    "new_pred_svm=[]\n",
    "for i in range(0,len(df_test_check)):\n",
    "   \n",
    "     \n",
    "    if dict_predict[df_test_check.loc[i]['userID']] ==1:\n",
    "        new_pred_svm.append((df_test_check.loc[i]['userID'],\"14-16\"))\n",
    "    if dict_predict[df_test_check.loc[i]['userID']] ==2:\n",
    "        new_pred_svm.append((df_test_check.loc[i]['userID'],\"24-26\"))\n",
    "    if dict_predict[df_test_check.loc[i]['userID']]==3:\n",
    "        new_pred_svm.append((df_test_check.loc[i]['userID'],\"34-36\"))\n",
    "    if dict_predict[df_test_check.loc[i]['userID']] ==4:\n",
    "        new_pred_svm.append((df_test_check.loc[i]['userID'],\"44-46\"))\n",
    "\n"
   ]
  },
  {
   "cell_type": "code",
   "execution_count": 10,
   "metadata": {},
   "outputs": [],
   "source": [
    "# #decision Tree\n",
    "# from sklearn import tree\n",
    "# from sklearn.tree import DecisionTreeClassifier\n",
    "# from sklearn.model_selection import train_test_split\n",
    "# from matplotlib import pyplot as plt\n",
    "# import seaborn as sns\n",
    "# # %matplotlib inlin\n",
    "# from sklearn.metrics import accuracy_score\n",
    "# #best split at 1700\n",
    "\n",
    "# text_clf_tree = Pipeline([('vect', CountVectorizer()), ('tfidf', TfidfTransformer()),\n",
    "#                          ('c',DecisionTreeClassifier(min_samples_split =1700)),])\n",
    "\n",
    "# dt = text_clf_tree.fit(df_train['text'], y)\n",
    "# predicted_tree = text_clf_tree.predict(df_test['text'])\n",
    "# np.mean(predicted_tree == df_test['age'])\n",
    "# userID_list=list(df_test['userID'])\n",
    "\n",
    "\n",
    "# dict_predict=defaultdict(int)\n",
    "# for i in range(0,len(predicted)):\n",
    "#     dict_predict[userID_list[i]]=predicted_tree[i]\n",
    "\n",
    "\n"
   ]
  },
  {
   "cell_type": "code",
   "execution_count": null,
   "metadata": {},
   "outputs": [],
   "source": [
    "\n",
    "\n",
    "# new_pred_tree=[]\n",
    "# for i in range(0,len(df_test_check)):\n",
    "   \n",
    "     \n",
    "#     if dict_predict[df_test_check.loc[i]['userID']] ==1:\n",
    "#         new_pred_tree.append((df_test_check.loc[i]['userID'],\"14-16\"))\n",
    "#     if dict_predict[df_test_check.loc[i]['userID']] ==2:\n",
    "#         new_pred_tree.append((df_test_check.loc[i]['userID'],\"24-26\"))\n",
    "#     if dict_predict[df_test_check.loc[i]['userID']]==3:\n",
    "#         new_pred_tree.append((df_test_check.loc[i]['userID'],\"34-36\"))\n",
    "#     if dict_predict[df_test_check.loc[i]['userID']] ==4:\n",
    "#         new_pred_tree.append((df_test_check.loc[i]['userID'],\"44-46\"))\n",
    "\n"
   ]
  },
  {
   "cell_type": "code",
   "execution_count": 32,
   "metadata": {},
   "outputs": [],
   "source": [
    "ids=[x[0] for x in new_pred_lg]\n",
    "li_lg=[x[1] for x in new_pred_lg]\n",
    "li_svm=[x[1] for x in new_pred_svm]\n",
    "# li_tree=[x[1] for x in new_pred_tree] can add later but not good for such training model.\n",
    "li_nb=[x[1] for x in new_pred_nb]\n"
   ]
  },
  {
   "cell_type": "code",
   "execution_count": 33,
   "metadata": {},
   "outputs": [],
   "source": [
    "result_age=[str() for c in 'c' * len(li_lg)]\n",
    "import operator\n",
    "#currenlty checks the logisitic regression but can do ensamble if we have better strategy by just adding list and stategy\n",
    "#right now we have added +1 voting to predict \n",
    "df_result = pd.DataFrame(np.column_stack([li_lg,result_age]),columns=[\"lg\",\"result\"])\n",
    "\n",
    "# df_result = pd.DataFrame(np.column_stack([new_predicted_lg,new_predicted_lr,new_predicted,new_predicted_svm,result_age]),columns=[\"lg\",\"lr\",\"nb\",\"svm\",\"result\"])\n",
    "\n",
    "\n",
    "\n",
    "\n",
    "\n",
    "for row in df_result.itertuples():\n",
    "    counter_dict = {\"14-16\":0, \"24-26\":0, \"34-36\":0,\"44-46\":0}\n",
    "    for model in df_result.columns.values[:-1]:\n",
    "        \n",
    "\n",
    "\n",
    "        model_prediction = df_result.at[row[0], model]\n",
    "\n",
    "        counter_dict[model_prediction] += 1\n",
    "   \n",
    "    df_result.at[row[0],'result']=max(counter_dict.items(), key=operator.itemgetter(1))[0]\n",
    "\n",
    "\n",
    "\n",
    "\n",
    "df_train_check = pd.read_csv('test_submit.csv')\n",
    "ids=df_train_check['Id']\n",
    "df_en = pd.DataFrame(np.column_stack([ids,df_result['result']]),columns=[\"Id\",\"Prediction\"])\n",
    "df_en.to_csv(\"ML_P2.csv\",index=False)\n"
   ]
  },
  {
   "cell_type": "code",
   "execution_count": null,
   "metadata": {},
   "outputs": [],
   "source": []
  },
  {
   "cell_type": "code",
   "execution_count": 12,
   "metadata": {},
   "outputs": [
    {
     "data": {
      "text/plain": [
       "1"
      ]
     },
     "execution_count": 12,
     "metadata": {},
     "output_type": "execute_result"
    }
   ],
   "source": []
  },
  {
   "cell_type": "code",
   "execution_count": 11,
   "metadata": {},
   "outputs": [],
   "source": []
  },
  {
   "cell_type": "code",
   "execution_count": null,
   "metadata": {},
   "outputs": [],
   "source": [
    "    "
   ]
  },
  {
   "cell_type": "code",
   "execution_count": 15,
   "metadata": {},
   "outputs": [],
   "source": []
  },
  {
   "cell_type": "code",
   "execution_count": null,
   "metadata": {},
   "outputs": [],
   "source": []
  },
  {
   "cell_type": "code",
   "execution_count": null,
   "metadata": {},
   "outputs": [],
   "source": []
  },
  {
   "cell_type": "code",
   "execution_count": null,
   "metadata": {},
   "outputs": [],
   "source": []
  },
  {
   "cell_type": "code",
   "execution_count": null,
   "metadata": {},
   "outputs": [],
   "source": []
  },
  {
   "cell_type": "code",
   "execution_count": null,
   "metadata": {},
   "outputs": [],
   "source": []
  },
  {
   "cell_type": "code",
   "execution_count": null,
   "metadata": {},
   "outputs": [],
   "source": []
  },
  {
   "cell_type": "code",
   "execution_count": 15,
   "metadata": {},
   "outputs": [],
   "source": []
  },
  {
   "cell_type": "code",
   "execution_count": null,
   "metadata": {},
   "outputs": [],
   "source": [
    "\n"
   ]
  },
  {
   "cell_type": "code",
   "execution_count": 16,
   "metadata": {},
   "outputs": [],
   "source": []
  },
  {
   "cell_type": "code",
   "execution_count": null,
   "metadata": {},
   "outputs": [],
   "source": []
  },
  {
   "cell_type": "code",
   "execution_count": 17,
   "metadata": {},
   "outputs": [
    {
     "data": {
      "text/plain": [
       "True"
      ]
     },
     "execution_count": 17,
     "metadata": {},
     "output_type": "execute_result"
    }
   ],
   "source": []
  },
  {
   "cell_type": "code",
   "execution_count": null,
   "metadata": {},
   "outputs": [],
   "source": []
  },
  {
   "cell_type": "code",
   "execution_count": null,
   "metadata": {},
   "outputs": [],
   "source": []
  },
  {
   "cell_type": "code",
   "execution_count": null,
   "metadata": {},
   "outputs": [],
   "source": []
  },
  {
   "cell_type": "code",
   "execution_count": 18,
   "metadata": {},
   "outputs": [],
   "source": []
  },
  {
   "cell_type": "code",
   "execution_count": 19,
   "metadata": {},
   "outputs": [],
   "source": []
  },
  {
   "cell_type": "code",
   "execution_count": 20,
   "metadata": {},
   "outputs": [],
   "source": []
  },
  {
   "cell_type": "code",
   "execution_count": null,
   "metadata": {},
   "outputs": [],
   "source": []
  },
  {
   "cell_type": "code",
   "execution_count": 16,
   "metadata": {},
   "outputs": [],
   "source": [
    "\n"
   ]
  },
  {
   "cell_type": "code",
   "execution_count": 21,
   "metadata": {},
   "outputs": [],
   "source": []
  },
  {
   "cell_type": "code",
   "execution_count": null,
   "metadata": {},
   "outputs": [],
   "source": []
  },
  {
   "cell_type": "code",
   "execution_count": 17,
   "metadata": {},
   "outputs": [],
   "source": []
  },
  {
   "cell_type": "code",
   "execution_count": 43,
   "metadata": {},
   "outputs": [],
   "source": []
  },
  {
   "cell_type": "code",
   "execution_count": 44,
   "metadata": {},
   "outputs": [],
   "source": []
  },
  {
   "cell_type": "code",
   "execution_count": 39,
   "metadata": {},
   "outputs": [
    {
     "data": {
      "text/plain": [
       "1391"
      ]
     },
     "execution_count": 39,
     "metadata": {},
     "output_type": "execute_result"
    }
   ],
   "source": []
  },
  {
   "cell_type": "code",
   "execution_count": null,
   "metadata": {},
   "outputs": [],
   "source": []
  },
  {
   "cell_type": "code",
   "execution_count": null,
   "metadata": {},
   "outputs": [],
   "source": []
  },
  {
   "cell_type": "code",
   "execution_count": null,
   "metadata": {},
   "outputs": [],
   "source": []
  },
  {
   "cell_type": "code",
   "execution_count": 25,
   "metadata": {},
   "outputs": [],
   "source": [
    "# def normalize_document(doc):\n",
    "#     # lower case and remove special characters\\whitespaces\n",
    "\n",
    "#     doc = re.sub(r'[^a-zA-Z\\s]', '', doc, re.I|re.A)\n",
    "#     doc = doc.lower()\n",
    "#     doc = doc.strip()\n",
    "#     # tokenize document\n",
    "#     tokens = wpt.tokenize(doc)\n",
    "#     # filter stopwords out of document\n",
    "\n",
    "#     filtered_tokens = [token for token in tokens if token not in stop_words]\n",
    "    \n",
    "    \n",
    "#     # re-create document from filtered tokens\n",
    "#     doc = ' '.join(filtered_tokens)\n",
    "\n",
    "#     return doc\n",
    "\n",
    "\n",
    "# df_train = pd.read_csv('train_raw.csv', names=col_Names)\n",
    "# print(\"read train_raw.csv succesfully\")\n",
    "# df_test = pd.read_csv('dev_raw.csv',names=col_Names)\n",
    "# print(\"read dev_raw.csv succesfully\")"
   ]
  },
  {
   "cell_type": "code",
   "execution_count": 26,
   "metadata": {},
   "outputs": [],
   "source": [
    "# #normalise the training datFrame\n",
    "# for row in df_train.itertuples():\n",
    "#     df_train.at[row[0],'text']=normalize_document(df_train.at[row[0],'text'])"
   ]
  },
  {
   "cell_type": "code",
   "execution_count": 27,
   "metadata": {},
   "outputs": [],
   "source": [
    "# #normalise the testing datFrame\n",
    "# for row in df_test.itertuples():\n",
    "#     df_test.at[row[0],'text']=normalize_document(df_test.at[row[0],'text'])\n",
    "    "
   ]
  },
  {
   "cell_type": "code",
   "execution_count": null,
   "metadata": {},
   "outputs": [],
   "source": []
  },
  {
   "cell_type": "code",
   "execution_count": null,
   "metadata": {},
   "outputs": [],
   "source": []
  },
  {
   "cell_type": "code",
   "execution_count": 28,
   "metadata": {},
   "outputs": [],
   "source": [
    "# #remove empty space and start spaces from normalise train dataFrame\n",
    "# indices_to_remove=[]\n",
    "# index=0\n",
    "# for row in df_train.itertuples():\n",
    "#     text = str(row.text.strip())\n",
    "#     df_train.at[row[0],'text']=text\n",
    "#     if len(text)==0:\n",
    "#         indices_to_remove.append(index)\n",
    "#     index+=1\n",
    "# df_train=df_train.drop(df_train.index[indices_to_remove])\n",
    "# df_train=df_train.reset_index()"
   ]
  },
  {
   "cell_type": "code",
   "execution_count": null,
   "metadata": {},
   "outputs": [],
   "source": []
  },
  {
   "cell_type": "code",
   "execution_count": null,
   "metadata": {},
   "outputs": [],
   "source": []
  },
  {
   "cell_type": "code",
   "execution_count": null,
   "metadata": {},
   "outputs": [],
   "source": []
  },
  {
   "cell_type": "code",
   "execution_count": null,
   "metadata": {},
   "outputs": [],
   "source": []
  },
  {
   "cell_type": "code",
   "execution_count": null,
   "metadata": {},
   "outputs": [],
   "source": []
  },
  {
   "cell_type": "code",
   "execution_count": 29,
   "metadata": {},
   "outputs": [],
   "source": [
    "# df_train.loc[df_train.age.isin([14,15,16]),'age'] = 1\n",
    "# df_train.loc[df_train.age.isin([24,25,26]),'age'] = 2\n",
    "# df_train.loc[df_train.age.isin([34,35,36]),'age'] = 3\n",
    "# df_train.loc[df_train.age.isin([44,45,46]),'age'] = 4\n",
    "# # df_test = df_test[((df_test.age>= 14) & (df_test.age<= 16)) |((df_test.age>= 24) & (df_test.age<= 26))\n",
    "# #                   |((df_test.age>= 34) & (df_test.age<= 36)) |((df_test.age>= 44) & (df_test.age<= 46))]\n",
    "# df_test.loc[df_test.age.isin([14,15,16]),'age'] = 1\n",
    "# df_test.loc[df_test.age.isin([24,25,26]),'age'] = 2\n",
    "# df_test.loc[df_test.age.isin([34,35,36]),'age'] = 3\n",
    "# df_test.loc[df_test.age.isin([44,45,46]),'age'] = 4\n",
    "# # df_test=df_test.reset_index()"
   ]
  },
  {
   "cell_type": "code",
   "execution_count": 30,
   "metadata": {},
   "outputs": [],
   "source": [
    "# from sklearn.metrics.pairwise import linear_kernel\n",
    "\n",
    "# def find_similar(tfidf_matrix, index, top_n = 10):\n",
    "#     cosine_similarities = linear_kernel(tfidf_matrix[index:index+1], tfidf_matrix).flatten()\n",
    "#     related_docs_indices = [i for i in cosine_similarities.argsort()[::-1] if i != index]\n",
    "#     return [(index, cosine_similarities[index]) for index in related_docs_indices][0:top_n]\n",
    "\n"
   ]
  },
  {
   "cell_type": "code",
   "execution_count": 31,
   "metadata": {},
   "outputs": [],
   "source": [
    "\n",
    "# from sklearn.feature_extraction.text import CountVectorizer\n",
    "# corpus_train = df_train['text'].values\n",
    "# count_vectorizer = CountVectorizer()\n",
    "# X_train_counts = count_vectorizer.fit_transform(corpus_train)\n",
    "# from sklearn.feature_extraction.text import TfidfTransformer\n",
    "# tfidf_transformer = TfidfTransformer()\n",
    "# X_train_tfidf = tfidf_transformer.fit_transform(X_train_counts)\n",
    "# X_train_tfidf.shape\n",
    "\n",
    "# corpus_test = df_test['text'].values\n",
    "# count_vectorizer_test = CountVectorizer()\n",
    "# X_test_counts = count_vectorizer_test.fit_transform(corpus_test)\n",
    "# tfidf_transformer_test = TfidfTransformer()\n",
    "# X_test_tfidf= tfidf_transformer_test.fit_transform(X_test_counts)\n",
    "# X_test_tfidf.shape"
   ]
  },
  {
   "cell_type": "code",
   "execution_count": 32,
   "metadata": {},
   "outputs": [
    {
     "ename": "NameError",
     "evalue": "name 'X_test_tfidf' is not defined",
     "output_type": "error",
     "traceback": [
      "\u001b[0;31m---------------------------------------------------------------------------\u001b[0m",
      "\u001b[0;31mNameError\u001b[0m                                 Traceback (most recent call last)",
      "\u001b[0;32m<ipython-input-32-93602184245b>\u001b[0m in \u001b[0;36m<module>\u001b[0;34m()\u001b[0m\n\u001b[0;32m----> 1\u001b[0;31m \u001b[0mX_test_tfidf\u001b[0m\u001b[0;34m\u001b[0m\u001b[0m\n\u001b[0m",
      "\u001b[0;31mNameError\u001b[0m: name 'X_test_tfidf' is not defined"
     ]
    }
   ],
   "source": [
    "X_test_tfidf"
   ]
  },
  {
   "cell_type": "code",
   "execution_count": null,
   "metadata": {},
   "outputs": [],
   "source": [
    "X_train_tfidf\n"
   ]
  },
  {
   "cell_type": "code",
   "execution_count": null,
   "metadata": {},
   "outputs": [],
   "source": [
    "# print(df_train.loc[137448]['age'])\n",
    "# for index,score in find_similar(X_train_tfidf,137448):\n",
    "#     print(index,score,df_train.loc[index]['text'])\n",
    "#     print(df_train.loc[index]['age'])\n",
    "#     print(\"...\")"
   ]
  },
  {
   "cell_type": "code",
   "execution_count": null,
   "metadata": {},
   "outputs": [],
   "source": [
    "# print(df_train.loc[51053]['text'])\n",
    "# print(\"....\")\n",
    "# print(df_train.loc[1]['text'])\n",
    "\n"
   ]
  },
  {
   "cell_type": "code",
   "execution_count": null,
   "metadata": {},
   "outputs": [],
   "source": []
  },
  {
   "cell_type": "code",
   "execution_count": null,
   "metadata": {},
   "outputs": [],
   "source": [
    "# from sklearn.pipeline import Pipeline\n",
    "# from sklearn.naive_bayes import MultinomialNB\n",
    "# y=df_train['age']\n",
    "# clf = MultinomialNB().fit(X_train_tfidf, y)\n",
    "# text_clf = Pipeline([('vect', CountVectorizer()), ('tfidf', TfidfTransformer()),('clf', MultinomialNB()),])\n",
    "# text_clf = text_clf.fit(df_train['text'], y)\n",
    "# predicted = text_clf.predict(df_test['text'])\n",
    "# np.mean(predicted==df_test['age'])"
   ]
  },
  {
   "cell_type": "code",
   "execution_count": null,
   "metadata": {},
   "outputs": [],
   "source": [
    "# np.mean(predicted==df_test['age'])"
   ]
  },
  {
   "cell_type": "code",
   "execution_count": null,
   "metadata": {},
   "outputs": [],
   "source": [
    "\n",
    "# new_pred=[]\n",
    "# for i in range(0,len(predicted)):\n",
    "#     if predicted[i] ==1:\n",
    "#         new_pred.append(\"14-16\")\n",
    "#     if predicted[i] ==2:\n",
    "#         new_pred.append(\"24-26\")\n",
    "#     if predicted[i] ==3:\n",
    "#         new_pred.append(\"34-36\")\n",
    "#     if predicted[i] ==4:\n",
    "#         new_pred.append(\"44-46\")\n",
    "# new_predicted_nb=new_pred\n"
   ]
  },
  {
   "cell_type": "code",
   "execution_count": null,
   "metadata": {},
   "outputs": [],
   "source": []
  },
  {
   "cell_type": "code",
   "execution_count": null,
   "metadata": {},
   "outputs": [],
   "source": [
    "# from sklearn.linear_model import SGDClassifier\n",
    "# text_clf_svm =SGDClassifier(loss='hinge', penalty='l2',\n",
    "#                       alpha=1e-3, max_iter=5, random_state=42).fit(X_train_tfidf, df_train['age'])\n",
    "# X_new_counts = count_vectorizer.transform(df_test['text'])\n",
    "# X_new_tfidf = tfidf_transformer.transform(X_new_counts)\n",
    "# predicted_svm = text_clf_svm.predict(X_new_tfidf)"
   ]
  },
  {
   "cell_type": "code",
   "execution_count": null,
   "metadata": {},
   "outputs": [],
   "source": []
  },
  {
   "cell_type": "code",
   "execution_count": null,
   "metadata": {},
   "outputs": [],
   "source": []
  },
  {
   "cell_type": "code",
   "execution_count": null,
   "metadata": {},
   "outputs": [],
   "source": [
    "# new_pred=[]\n",
    "# for i in range(0,len(predicted_svm)):\n",
    "#     if predicted_svm[i] ==1:\n",
    "#         new_pred.append(\"14-16\")\n",
    "#     if predicted_svm[i] ==2:\n",
    "#         new_pred.append(\"24-26\")\n",
    "#     if predicted_svm[i] ==3:\n",
    "#         new_pred.append(\"34-36\")\n",
    "#     if predicted_svm[i] ==4:\n",
    "#         new_pred.append(\"44-46\")\n",
    "# new_predicted_svm=new_pred"
   ]
  },
  {
   "cell_type": "code",
   "execution_count": null,
   "metadata": {},
   "outputs": [],
   "source": [
    "# from sklearn.linear_model import LogisticRegression\n",
    "# from sklearn.metrics import classification_report\n",
    "# C=[0.1,0.5,1,5,10]\n",
    "# for i in C:\n",
    "#     y=df_train['age']\n",
    "#     text_clf_lg = Pipeline([('vect', CountVectorizer()), ('tfidf', TfidfTransformer()),\n",
    "#                                   ('clf-svm',LogisticRegression(C=i,tol=0.01)),])\n",
    "\n",
    "#     _ = text_clf_lg.fit(df_train['text'], y)\n",
    "#     predicted_lg = text_clf_lg.predict(df_test['text'])\n",
    "\n",
    "\n",
    "#     print(np.mean(predicted_lg==df_test['age']))\n",
    "\n",
    "\n",
    "# new_pred=[]\n",
    "# for i in range(0,len(predicted_lg)):\n",
    "#     if predicted_lg[i] ==1:\n",
    "#         new_pred.append(\"14-16\")\n",
    "#     if predicted_lg[i] ==2:\n",
    "#         new_pred.append(\"24-26\")\n",
    "#     if predicted_lg[i] ==3:\n",
    "#         new_pred.append(\"34-36\")\n",
    "#     if predicted_lg[i] ==4:\n",
    "#         new_pred.append(\"44-46\")\n",
    "    \n",
    "# new_predicted_lg=new_pred\n",
    "\n",
    "        "
   ]
  },
  {
   "cell_type": "code",
   "execution_count": null,
   "metadata": {},
   "outputs": [],
   "source": [
    "# print(df_train.loc[217120]['age'],df_train.loc[217120]['text'])\n",
    "# for index,score in find_similar(X_train_tfidf,217120):\n",
    "#     print(\"age=\",df_train.loc[index]['age'])\n",
    "#     print(\"index=\",index,\"score=\",score,df_train.loc[index]['text'])\n",
    "    \n",
    "#     print(\"...\")"
   ]
  },
  {
   "cell_type": "code",
   "execution_count": null,
   "metadata": {},
   "outputs": [],
   "source": [
    "1==1\n"
   ]
  },
  {
   "cell_type": "code",
   "execution_count": null,
   "metadata": {},
   "outputs": [],
   "source": [
    "1==1"
   ]
  },
  {
   "cell_type": "code",
   "execution_count": null,
   "metadata": {},
   "outputs": [],
   "source": []
  },
  {
   "cell_type": "code",
   "execution_count": null,
   "metadata": {},
   "outputs": [],
   "source": [
    "np.mean(predicted_lg==df_test['age'])"
   ]
  },
  {
   "cell_type": "code",
   "execution_count": null,
   "metadata": {},
   "outputs": [],
   "source": [
    "\n",
    "# from sklearn.svm import LinearSVC\n",
    "# from sklearn.datasets import make_classification\n",
    "# clf_lr =  LinearSVC(random_state=0).fit(X_train_tfidf, df_train['age'])\n",
    "# X_new_counts = count_vectorizer.transform(df_test['text'])\n",
    "# X_new_tfidf = tfidf_transformer.transform(X_new_counts)\n",
    "# predicted_lr = clf_lr.predict(X_new_tfidf)\n",
    "\n",
    "\n",
    "\n",
    "# new_pred=[]\n",
    "# for i in range(0,len(predicted_lr)):\n",
    "#     if predicted_lr[i] ==1:\n",
    "#         new_pred.append(\"14-16\")\n",
    "#     if predicted_lr[i] ==2:\n",
    "#         new_pred.append(\"24-26\")\n",
    "#     if predicted_lr[i] ==3:\n",
    "#         new_pred.append(\"34-36\")\n",
    "#     if predicted_lr[i] ==4:\n",
    "#         new_pred.append(\"44-46\")\n",
    "# new_predicted_lr=new_pred\n"
   ]
  },
  {
   "cell_type": "code",
   "execution_count": null,
   "metadata": {},
   "outputs": [],
   "source": [
    "# np.mean(predicted_lr==df_test['age'])"
   ]
  },
  {
   "cell_type": "code",
   "execution_count": null,
   "metadata": {},
   "outputs": [],
   "source": [
    "# print(len(new_predicted))\n",
    "# print(len(new_predicted_lr))"
   ]
  },
  {
   "cell_type": "code",
   "execution_count": null,
   "metadata": {},
   "outputs": [],
   "source": []
  },
  {
   "cell_type": "code",
   "execution_count": null,
   "metadata": {},
   "outputs": [],
   "source": [
    "\n",
    "# #decision Tree\n",
    "# from sklearn import tree\n",
    "# from sklearn.tree import DecisionTreeClassifier\n",
    "# from sklearn.model_selection import train_test_split\n",
    "# from matplotlib import pyplot as plt\n",
    "# import seaborn as sns\n",
    "# from sklearn.metrics import accuracy_score\n",
    "\n",
    "# text_clf_tree = tree.DecisionTreeClassifier(min_samples_split =6500).fit(X_train_tfidf, df_train['age'])\n",
    "# X_new_counts = count_vectorizer.transform(df_test['text'])\n",
    "# X_new_tfidf = tfidf_transformer.transform(X_new_counts)\n",
    "# predicted_tree = text_clf_tree.predict(X_new_tfidf)\n",
    "# new_pred=[]\n",
    "# for i in range(0,len(predicted_tree)):\n",
    "#     if predicted_tree[i] ==1:\n",
    "#         new_pred.append(\"14-16\")\n",
    "#     if predicted_tree[i] ==2:\n",
    "#         new_pred.append(\"24-26\")\n",
    "#     if predicted_tree[i] ==3:\n",
    "#         new_pred.append(\"34-36\")\n",
    "#     if predicted_tree[i] ==4:\n",
    "#         new_pred.append(\"44-46\")\n",
    "# new_predicted_tree=new_pred"
   ]
  },
  {
   "cell_type": "code",
   "execution_count": null,
   "metadata": {},
   "outputs": [],
   "source": [
    "# df_train = pd.read_csv('test_submit.csv')\n",
    "# ids=df_train['Id']\n"
   ]
  },
  {
   "cell_type": "code",
   "execution_count": null,
   "metadata": {},
   "outputs": [],
   "source": [
    "# df_nb = pd.DataFrame(np.column_stack([ids,new_predicted_nb]),columns=[\"Id\",\"Prediction\"])\n",
    "# df_lr = pd.DataFrame(np.column_stack([ids,new_predicted_lr]),columns=[\"Id\",\"Prediction\"])\n",
    "# df_svm = pd.DataFrame(np.column_stack([ids,new_predicted_svm]),columns=[\"Id\",\"Prediction\"])\n",
    "# df_lg = pd.DataFrame(np.column_stack([ids,new_predicted_lg]),columns=[\"Id\",\"Prediction\"])\n",
    "# df_dt = pd.DataFrame(np.column_stack([ids,new_predicted_tree]),columns=[\"Id\",\"Prediction\"])\n",
    "\n"
   ]
  },
  {
   "cell_type": "code",
   "execution_count": null,
   "metadata": {},
   "outputs": [],
   "source": [
    "# df_nb.to_csv(\"ss_nb.csv\",index=False)\n",
    "# df_lr.to_csv(\"ss_lr.csv\",index=False)\n",
    "# df_svm.to_csv(\"ss_svm.csv\",index=False)\n",
    "# df_lg.to_csv(\"ss_lg.csv\",index=False)\n",
    "# df_dt.to_csv(\"ss_tree.csv\",index=False)\n"
   ]
  },
  {
   "cell_type": "code",
   "execution_count": null,
   "metadata": {},
   "outputs": [],
   "source": [
    "# result_age=[str() for c in 'c' * len(new_predicted_lg)]\n"
   ]
  },
  {
   "cell_type": "code",
   "execution_count": null,
   "metadata": {},
   "outputs": [],
   "source": []
  },
  {
   "cell_type": "code",
   "execution_count": null,
   "metadata": {},
   "outputs": [],
   "source": [
    "# import operator\n",
    "# df_result = pd.DataFrame(np.column_stack([new_predicted_lg,new_predicted_lr,new_predicted_nb,new_predicted_svm,result_age]),columns=[\"lg\",\"lr\",\"nb\",\"svm\",\"result\"])\n",
    "\n",
    "# # df_result = pd.DataFrame(np.column_stack([new_predicted_lg,new_predicted_lr,new_predicted,new_predicted_svm,result_age]),columns=[\"lg\",\"lr\",\"nb\",\"svm\",\"result\"])\n",
    "\n",
    "\n",
    "\n",
    "\n",
    "\n",
    "# for row in df_result.itertuples():\n",
    "#     counter_dict = {\"14-16\":0, \"24-26\":0, \"34-36\":0,\"44-46\":0}\n",
    "#     for model in df_result.columns.values[:-1]:\n",
    "        \n",
    "\n",
    "\n",
    "#         model_prediction = df_result.at[row[0], model]\n",
    "\n",
    "#         counter_dict[model_prediction] += 1\n",
    "   \n",
    "#     df_result.at[row[0],'result']=max(counter_dict.items(), key=operator.itemgetter(1))[0]\n",
    "\n"
   ]
  },
  {
   "cell_type": "code",
   "execution_count": null,
   "metadata": {},
   "outputs": [],
   "source": [
    "# df_en_wi_tree = pd.DataFrame(np.column_stack([ids,df_result['result']]),columns=[\"Id\",\"Prediction\"])\n",
    "# df_dt.to_csv(\"ss_en_wi_t.csv\",index=False)\n"
   ]
  },
  {
   "cell_type": "code",
   "execution_count": null,
   "metadata": {},
   "outputs": [],
   "source": []
  },
  {
   "cell_type": "code",
   "execution_count": null,
   "metadata": {},
   "outputs": [],
   "source": [
    "\n",
    "\n",
    "\n",
    "\n",
    "\n",
    "# from sklearn.linear_model import LogisticRegression\n",
    "# from sklearn.metrics import classification_report\n",
    "\n",
    "# clf_lg = LogisticRegression().fit(X_train_tfidf, df_train['age'])\n",
    "# X_new_counts = count_vectorizer.transform(df_test['text'])\n",
    "# X_new_tfidf = tfidf_transformer.transform(X_new_counts)\n",
    "# predicted_lg = clf_lg.predict(X_new_tfidf)"
   ]
  },
  {
   "cell_type": "code",
   "execution_count": null,
   "metadata": {},
   "outputs": [],
   "source": []
  },
  {
   "cell_type": "code",
   "execution_count": null,
   "metadata": {},
   "outputs": [],
   "source": [
    "# from sklearn.metrics import classification_report\n",
    "# li= text_clf_svm.decision_function(df_test_not['text'])\n",
    "# li2=text_clf_svm.predict(df_test_not['text'])\n",
    "# count=0\n",
    "# total=0\n",
    "# for i in range(0,len(li)):\n",
    "#     total += 1\n",
    "    \n",
    "    \n",
    "#     a=li[i][0]\n",
    "#     b=li[i][1]\n",
    "#     c=li[i][2]\n",
    "#     d=li[i][3]\n",
    "#     if a < 0 and b < 0 and c < 0 and d < 0:\n",
    "#         count+=1\n",
    "        \n",
    "# print(count)\n",
    "# print(total)\n",
    "# print(count/total)\n",
    "    "
   ]
  },
  {
   "cell_type": "code",
   "execution_count": null,
   "metadata": {},
   "outputs": [],
   "source": [
    "# np.mean(predicted_svm_not==y_test_not)\n",
    "# df_test"
   ]
  },
  {
   "cell_type": "code",
   "execution_count": null,
   "metadata": {},
   "outputs": [],
   "source": [
    "# from sklearn.linear_model import LogisticRegression\n",
    "# from sklearn.metrics import classification_report\n",
    "\n",
    "# clf_lg = LogisticRegression()\n",
    "# y=df_train['age']\n",
    "# text_clf_lg = Pipeline([('vect', CountVectorizer()), ('tfidf', TfidfTransformer()),\n",
    "#                          ('clf-svm',LogisticRegression()),])\n",
    "\n",
    "# text_clf_lg = text_clf_lg.fit(df_train['text'], y)\n",
    "# predicted_lg = text_clf_lg.predict(df_test['text'])\n",
    "\n",
    "\n",
    "\n",
    "\n",
    "# # new_pred=[]\n",
    "# # for i in range(0,len(predicted_lg)):\n",
    "# #     if predicted_lg[i] ==1:\n",
    "# #         new_pred.append(\"14-16\")\n",
    "# #     if predicted_lg[i] ==2:\n",
    "# #         new_pred.append(\"24-26\")\n",
    "# #     if predicted_lg[i] ==3:\n",
    "# #         new_pred.append(\"34-36\")\n",
    "# #     if predicted_lg[i] ==4:\n",
    "# #         new_pred.append(\"44-46\")\n",
    "    \n",
    "# # new_predicted_lg=new_pred\n",
    "\n",
    "        "
   ]
  },
  {
   "cell_type": "code",
   "execution_count": null,
   "metadata": {},
   "outputs": [],
   "source": [
    "# from sklearn.metrics import classification_report\n",
    "# li= text_clf_lg.decision_function(df_test['text'])\n",
    "# li2=text_clf_lg.predict(df_test['text'])\n"
   ]
  },
  {
   "cell_type": "code",
   "execution_count": null,
   "metadata": {},
   "outputs": [],
   "source": []
  },
  {
   "cell_type": "code",
   "execution_count": null,
   "metadata": {},
   "outputs": [],
   "source": [
    "# count=0\n",
    "# total=0\n",
    "# for i in range(0,len(li)):\n",
    "#     total += 1\n",
    "    \n",
    "    \n",
    "#     a=li[i][0]\n",
    "#     b=li[i][1]\n",
    "#     c=li[i][2]\n",
    "#     d=li[i][3]\n",
    "#     if a < 0 and b < 0 and c < 0 and d < 0:\n",
    "#         count+=1\n",
    "        \n",
    "# print(count)\n",
    "# print(total)\n",
    "# print(count/total)"
   ]
  },
  {
   "cell_type": "code",
   "execution_count": null,
   "metadata": {},
   "outputs": [],
   "source": [
    "# li[33502:33510]"
   ]
  },
  {
   "cell_type": "code",
   "execution_count": null,
   "metadata": {},
   "outputs": [],
   "source": [
    "# df_test=df_test.reset_index()\n",
    "# df_test"
   ]
  },
  {
   "cell_type": "code",
   "execution_count": null,
   "metadata": {},
   "outputs": [],
   "source": [
    "# li2=[]\n",
    "# li_C1=[]\n",
    "# li_C2=[]\n",
    "# li_C3=[]\n",
    "# li_C4=[]\n",
    "# for d_li in li:\n",
    "#     li_C1.append(d_li[0])\n",
    "#     li_C2.append(d_li[1])\n",
    "#     li_C3.append(d_li[2])\n",
    "#     li_C4.append(d_li[3])\n",
    "# all_li=[li_C1,li_C2,li_C3,li_C4]\n",
    "\n",
    "# for each in all_li:\n",
    "  \n",
    "#     i=-1\n",
    "#     for elem in each:\n",
    "#         i+=1\n",
    "      \n",
    "#         if elem<0:\n",
    "#             each[i]=0\n",
    "# import numpy\n",
    "# for each_class in all_li:\n",
    "#     print(\"min\",numpy.min(each_class))\n",
    "#     print(\"max\",numpy.max(each_class))\n",
    "#     print(\"mean\",numpy.mean(each_class))\n",
    "#     print(\"median\",numpy.median(each_class))\n",
    "#     print(\"class\")\n",
    "        \n",
    "    \n",
    "        \n",
    "    \n",
    "    \n"
   ]
  },
  {
   "cell_type": "code",
   "execution_count": null,
   "metadata": {},
   "outputs": [],
   "source": [
    "1==1"
   ]
  },
  {
   "cell_type": "code",
   "execution_count": null,
   "metadata": {},
   "outputs": [],
   "source": []
  },
  {
   "cell_type": "code",
   "execution_count": null,
   "metadata": {},
   "outputs": [],
   "source": [
    "\n",
    "# from sklearn.svm import LinearSVC\n",
    "# from sklearn.datasets import make_classification\n",
    "# clf_lr = LinearSVC(random_state=0)\n",
    "# y=df_train['age']\n",
    "# text_clf_lr = Pipeline([('vect', CountVectorizer()), ('tfidf', TfidfTransformer()),\n",
    "#                          ('clf-svm', LinearSVC(C=1.0, class_weight=None, dual=True, fit_intercept=True,\n",
    "#      intercept_scaling=1,  penalty='l2', random_state=0, tol=0.0001,\n",
    "#      verbose=0)),])\n",
    "\n",
    "# _ = text_clf_lr.fit(df_train['text'], y)\n",
    "# predicted_lr = text_clf_lr.predict(df_test['text'])\n",
    "\n",
    "\n",
    "# new_pred=[]\n",
    "# for i in range(0,len(predicted_lr)):\n",
    "#     if predicted_lr[i] ==1:\n",
    "#         new_pred.append(\"14-16\")\n",
    "#     if predicted_lr[i] ==2:\n",
    "#         new_pred.append(\"24-26\")\n",
    "#     if predicted_lr[i] ==3:\n",
    "#         new_pred.append(\"34-36\")\n",
    "#     if predicted_lr[i] ==4:\n",
    "#         new_pred.append(\"44-46\")\n",
    "# new_predicted_lr=new_pred\n"
   ]
  },
  {
   "cell_type": "code",
   "execution_count": null,
   "metadata": {},
   "outputs": [],
   "source": [
    "# np.mean(predicted_lr==y_test)"
   ]
  },
  {
   "cell_type": "code",
   "execution_count": null,
   "metadata": {},
   "outputs": [],
   "source": [
    "# df_test.loc[~df_test.age.isin([1,2,3,4]),'age'] = 0\n"
   ]
  },
  {
   "cell_type": "code",
   "execution_count": null,
   "metadata": {},
   "outputs": [],
   "source": [
    "\n",
    "# #decision Tree\n",
    "# from sklearn import tree\n",
    "# from sklearn.tree import DecisionTreeClassifier\n",
    "# from sklearn.model_selection import train_test_split\n",
    "# from matplotlib import pyplot as plt\n",
    "# import seaborn as sns\n",
    "# # %matplotlib inlin\n",
    "# from sklearn.metrics import accuracy_score\n",
    "# li=[]\n",
    "# #best split at 6500\n",
    "# c = tree.DecisionTreeClassifier(min_samples_split =6500)\n",
    "# text_clf_tree = Pipeline([('vect', CountVectorizer()), ('tfidf', TfidfTransformer()),\n",
    "#                          ('c',DecisionTreeClassifier(min_samples_split =6500)),])\n",
    "\n",
    "# dt = text_clf_tree.fit(df_train['text'], y)\n",
    "# predicted_tree = text_clf_tree.predict(df_test['text'])\n",
    "# new_pred=[]\n",
    "# for i in range(0,len(predicted_tree)):\n",
    "#     if predicted_tree[i] ==1:\n",
    "#         new_pred.append(\"14-16\")\n",
    "#     if predicted_tree[i] ==2:\n",
    "#         new_pred.append(\"24-26\")\n",
    "#     if predicted_tree[i] ==3:\n",
    "#         new_pred.append(\"34-36\")\n",
    "#     if predicted_tree[i] ==4:\n",
    "#         new_pred.append(\"44-46\")\n",
    "# new_predicted_tree=new_pred\n",
    "\n",
    "\n",
    "\n"
   ]
  },
  {
   "cell_type": "code",
   "execution_count": null,
   "metadata": {},
   "outputs": [],
   "source": [
    "# np.mean(predicted_tree==y_test)"
   ]
  },
  {
   "cell_type": "code",
   "execution_count": null,
   "metadata": {},
   "outputs": [],
   "source": [
    "\n",
    "# df_test.loc[df_test.age==1,'age'] = \"14-16\"\n",
    "# df_test.loc[df_test.age==2,'age'] = \"24-26\"\n",
    "# df_test.loc[df_test.age==3,'age'] = \"34-36\"\n",
    "# df_test.loc[df_test.age==4,'age'] = \"44-46\"\n",
    "# result_age=df_test['age']\n"
   ]
  },
  {
   "cell_type": "code",
   "execution_count": null,
   "metadata": {},
   "outputs": [],
   "source": [
    "# result_age=[str() for c in 'c' * len(new_predicted_lg)]\n",
    "# df_result = pd.DataFrame(np.column_stack([new_predicted_lg,new_predicted_lr,new_predicted_nb,new_predicted_svm,new_predicted_tree,result_age]),columns=[\"lg\",\"lr\",\"nb\",\"svm\",\"tree\",\"result\"])\n",
    "# df_result\n",
    "\n"
   ]
  },
  {
   "cell_type": "code",
   "execution_count": null,
   "metadata": {},
   "outputs": [],
   "source": [
    "# df_test.loc[df_test.age==1,'age'] = \"14-16\"\n",
    "# df_test.loc[df_test.age==2,'age'] = \"24-26\"\n",
    "# df_test.loc[df_test.age==3,'age'] = \"34-36\"\n",
    "# df_test.loc[df_test.age==4,'age'] = \"44-46\"\n",
    "\n",
    "# df_y = df_test['age']\n",
    "# df_y=np.array(df_y)\n",
    "# df_y"
   ]
  },
  {
   "cell_type": "code",
   "execution_count": null,
   "metadata": {},
   "outputs": [],
   "source": [
    "\n",
    "\n",
    "# print(np.mean(df_result['lg']==df_y))\n",
    "# print(np.mean(df_result['lr']==df_y))\n",
    "# print(np.mean(df_result['svm']==df_y))\n",
    "# print(np.mean(df_result['nb']==df_y))\n",
    "# print(np.mean(df_result['tree']==df_y))\n"
   ]
  },
  {
   "cell_type": "code",
   "execution_count": null,
   "metadata": {},
   "outputs": [],
   "source": [
    "# import operator\n",
    "# df_result = pd.DataFrame(np.column_stack([new_predicted_lg,new_predicted_lr,new_predicted_nb,new_predicted_svm,new_predicted_tree,result_age]),columns=[\"lg\",\"lr\",\"nb\",\"svm\",\"tree\",\"result\"])\n",
    "\n",
    "\n",
    "\n",
    "\n",
    "\n",
    "# for row in df_result.itertuples():\n",
    "#     counter_dict = {\"14-16\":0, \"24-26\":0, \"34-36\":0,\"44-46\":0}\n",
    "#     for model in df_result.columns.values[:-1]:\n",
    "        \n",
    "\n",
    "\n",
    "#         model_prediction = df_result.at[row[0], model]\n",
    "\n",
    "#         counter_dict[model_prediction] += 1\n",
    "   \n",
    "#     df_result.at[row[0],'result']=max(counter_dict.items(), key=operator.itemgetter(1))[0]\n",
    "\n"
   ]
  },
  {
   "cell_type": "code",
   "execution_count": null,
   "metadata": {},
   "outputs": [],
   "source": [
    "# # y_test = df_result['result']\n",
    "# df_y = df_test['age']\n",
    "# df_y=np.array(df_y)\n",
    "\n",
    "# np.mean(df_y==df_result['result'])"
   ]
  },
  {
   "cell_type": "code",
   "execution_count": null,
   "metadata": {},
   "outputs": [],
   "source": []
  },
  {
   "cell_type": "code",
   "execution_count": null,
   "metadata": {},
   "outputs": [],
   "source": [
    "\n"
   ]
  },
  {
   "cell_type": "code",
   "execution_count": null,
   "metadata": {},
   "outputs": [],
   "source": [
    "\n",
    "# from sklearn.svm import LinearSVC\n",
    "# from sklearn.datasets import make_classification\n",
    "# clf_lr = LinearSVC(random_state=0)\n",
    "# y=df_train['age']\n",
    "# text_clf_lr = Pipeline([('vect', CountVectorizer()), ('tfidf', TfidfTransformer()),\n",
    "#                          ('clf-svm', LinearSVC(C=1.0, class_weight=None, dual=True, fit_intercept=True,\n",
    "#      intercept_scaling=1,  penalty='l2', random_state=0, tol=0.0001,\n",
    "#      verbose=0)),])\n",
    "\n",
    "# _ = text_clf_lr.fit(df_train['text'], y)\n",
    "# predicted_lr = text_clf_lr.predict(df_test['text'])\n",
    "\n",
    "\n",
    "# df_test.loc[df_test.age.isin([14,15,16]),'age'] = 1\n",
    "# df_test.loc[df_test.age.isin([24,25,26]),'age'] = 2\n",
    "# df_test.loc[df_test.age.isin([34,35,36]),'age'] = 3\n",
    "# df_test.loc[df_test.age.isin([44,45,46]),'age'] = 4\n",
    "# y_test=df_test['age']\n",
    "# for i in range(0,len(predicted_lr)-1):\n",
    "#     if predicted_lr[i] in [14,15,16]:\n",
    "#         predicted_lr[i]=1\n",
    "#     if predicted_lr[i] in [24,25,26]:\n",
    "#         predicted_lr[i]=2\n",
    "#     if predicted_lr[i] in [34,35,36]:\n",
    "#         predicted_lr[i]=3\n",
    "#     if predicted_lr[i] in [44,45,46]:\n",
    "#         predicted_lr[i]=4\n",
    "        \n",
    "    \n",
    "# predicted_lr\n",
    "# np.mean(predicted_lr == y_test)\n",
    " "
   ]
  },
  {
   "cell_type": "code",
   "execution_count": null,
   "metadata": {},
   "outputs": [],
   "source": [
    "\n",
    "\n",
    "# df_test.loc[df_test.age.isin([14,15,16]),'age'] = 1\n",
    "# df_test.loc[df_test.age.isin([24,25,26]),'age'] = 2\n",
    "# df_test.loc[df_test.age.isin([34,35,36]),'age'] = 3\n",
    "# df_test.loc[df_test.age.isin([44,45,46]),'age'] = 4\n",
    "# y_test=df_test['age']\n",
    "# for i in range(0,len(predicted_lr)-1):\n",
    "#     if predicted_lr[i] in [14,15,16]:\n",
    "#         predicted_lr[i]=1\n",
    "#     if predicted_lr[i] in [24,25,26]:\n",
    "#         predicted_lr[i]=2\n",
    "#     if predicted_lr[i] in [34,35,36]:\n",
    "#         predicted_lr[i]=3\n",
    "#     if predicted_lr[i] in [44,45,46]:\n",
    "#         predicted_lr[i]=4\n",
    "        \n",
    "    \n",
    "# predicted_lr\n",
    "# np.mean(predicted_lr == y_test)\n",
    " "
   ]
  },
  {
   "cell_type": "code",
   "execution_count": null,
   "metadata": {},
   "outputs": [],
   "source": [
    "# from sklearn.linear_model import LogisticRegression\n",
    "\n",
    "# clf_lg = LogisticRegression()\n",
    "# y=df_train['age']\n",
    "# text_clf_lg = Pipeline([('vect', CountVectorizer()), ('tfidf', TfidfTransformer()),\n",
    "#                          ('clf-svm',LogisticRegression()),])\n",
    "\n",
    "# _ = text_clf_lg.fit(df_train['text'], y)\n",
    "# predicted_lg = text_clf_lg.predict(df_test['text'])\n",
    "\n",
    "\n",
    "# df_test.loc[df_test.age.isin([14,15,16]),'age'] = 1\n",
    "# df_test.loc[df_test.age.isin([24,25,26]),'age'] = 2\n",
    "# df_test.loc[df_test.age.isin([34,35,36]),'age'] = 3\n",
    "# df_test.loc[df_test.age.isin([44,45,46]),'age'] = 4\n",
    "# y_test=df_test['age']\n",
    "# for i in range(0,len(predicted_lg)-1):\n",
    "#     if predicted_lg[i] in [14,15,16]:\n",
    "#         predicted_lg[i]=1\n",
    "#     if predicted_lg[i] in [24,25,26]:\n",
    "#         predicted_lg[i]=2\n",
    "#     if predicted_lg[i] in [34,35,36]:\n",
    "#         predicted_lg[i]=3\n",
    "#     if predicted_lg[i] in [44,45,46]:\n",
    "#         predicted_lg[i]=4\n",
    "        "
   ]
  },
  {
   "cell_type": "code",
   "execution_count": null,
   "metadata": {},
   "outputs": [],
   "source": [
    "# df_test.loc[df_test.age.isin([14,15,16]),'age'] = 1\n",
    "# df_test.loc[df_test.age.isin([24,25,26]),'age'] = 2\n",
    "# df_test.loc[df_test.age.isin([34,35,36]),'age'] = 3\n",
    "# df_test.loc[df_test.age.isin([44,45,46]),'age'] = 4\n",
    "# y_test=df_test['age']\n",
    "# for i in range(0,len(predicted_lg)-1):\n",
    "#     if predicted_lg[i] in [14,15,16]:\n",
    "#         predicted_lg[i]=1\n",
    "#     if predicted_lg[i] in [24,25,26]:\n",
    "#         predicted_lg[i]=2\n",
    "#     if predicted_lg[i] in [34,35,36]:\n",
    "#         predicted_lg[i]=3\n",
    "#     if predicted_lg[i] in [44,45,46]:\n",
    "#         predicted_lg[i]=4\n",
    "        \n",
    "    \n",
    "# predicted_lg\n",
    "# np.mean(predicted_lg == y_test)\n",
    " "
   ]
  },
  {
   "cell_type": "code",
   "execution_count": null,
   "metadata": {},
   "outputs": [],
   "source": [
    "\n",
    "# #decision Tree\n",
    "# from sklearn import tree\n",
    "# from sklearn.tree import DecisionTreeClassifier\n",
    "# from sklearn.model_selection import train_test_split\n",
    "# from matplotlib import pyplot as plt\n",
    "# import seaborn as sns\n",
    "# # %matplotlib inlin\n",
    "# from sklearn.metrics import accuracy_score\n",
    "# li=[]\n",
    "# #best split at 6500\n",
    "# c = tree.DecisionTreeClassifier(min_samples_split =6500)\n",
    "# text_clf_svm = Pipeline([('vect', CountVectorizer()), ('tfidf', TfidfTransformer()),\n",
    "#                          ('c',DecisionTreeClassifier(min_samples_split =6500)),])\n",
    "\n",
    "# dt = text_clf_svm.fit(df_train['text'], y)\n",
    "# predicted_svm = text_clf_svm.predict(df_test['text'])\n",
    "# np.mean(predicted_svm == y_test)\n",
    "\n",
    "\n",
    "\n",
    "# # features=list(X_train.columns.values)\n",
    "# # dt = c.fit(X_train, Y_train)\n",
    "# # Y_pred = c.predict(X_test)\n",
    "# # score = accuracy_score(Y_test, Y_pred) * 100\n",
    "\n",
    "\n",
    "# import graphviz\n",
    "# %matplotlib inline\n",
    "# dot_data = tree.export_graphviz(dt, out_file=None) \n",
    "# graph = graphviz.Source(dot_data) \n",
    "# dot_data = tree.export_graphviz(dt, out_file=None, \n",
    "#                          feature_names=features,  \n",
    "#                          class_names= [1,2,3,4],  \n",
    "#                          filled=True, rounded=True,  \n",
    "#                          special_characters=True)  \n",
    "# graph = graphviz.Source(dot_data)\n",
    "# graph\n",
    "\n",
    "# with open(\"fiamge.txt\", \"w\") as f:\n",
    "#     f = tree.export_graphviz(c, out_file=f)\n",
    "\n",
    "\n",
    "\n"
   ]
  },
  {
   "cell_type": "code",
   "execution_count": null,
   "metadata": {},
   "outputs": [],
   "source": [
    "# import numpy as np\n",
    "# import seaborn as sns\n",
    "# import matplotlib.pyplot as plt\n",
    "# import pandas as pd\n",
    "# from pandas.api.types import is_string_dtype\n",
    "# from pandas.api.types import is_numeric_dtype\n",
    "# import scipy.stats as sps\n",
    "# from sklearn.model_selection import train_test_split\n",
    "# from sklearn.metrics import accuracy_score\n",
    "# from sklearn import neighbors\n",
    "# from scipy.stats import *\n",
    "\n",
    "# c = neighbors.KNeighborsClassifier(n_neighbors=13)\n",
    "# text_clf_svm = Pipeline([('vect', CountVectorizer()), ('tfidf', TfidfTransformer()),\n",
    "#                          ('c',neighbors.KNeighborsClassifier(n_neighbors=13)),])\n",
    "\n",
    "# _ = text_clf_svm.fit(df_train['text'], y)\n",
    "# predicted_svm = text_clf_svm.predict(df_test['text'])\n",
    "# np.mean(predicted_svm == y_test)"
   ]
  }
 ],
 "metadata": {
  "kernelspec": {
   "display_name": "Python [default]",
   "language": "python",
   "name": "python3"
  },
  "language_info": {
   "codemirror_mode": {
    "name": "ipython",
    "version": 3
   },
   "file_extension": ".py",
   "mimetype": "text/x-python",
   "name": "python",
   "nbconvert_exporter": "python",
   "pygments_lexer": "ipython3",
   "version": "3.6.4"
  }
 },
 "nbformat": 4,
 "nbformat_minor": 2
}
